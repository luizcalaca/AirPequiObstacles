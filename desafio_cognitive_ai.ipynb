{
  "nbformat": 4,
  "nbformat_minor": 0,
  "metadata": {
    "colab": {
      "name": "desafio_cognitive_ai.ipynb",
      "provenance": [],
      "collapsed_sections": [],
      "authorship_tag": "ABX9TyOxRwOq4Z0PdvHcyxX8Bs1w",
      "include_colab_link": true
    },
    "kernelspec": {
      "name": "python3",
      "display_name": "Python 3"
    }
  },
  "cells": [
    {
      "cell_type": "markdown",
      "metadata": {
        "id": "view-in-github",
        "colab_type": "text"
      },
      "source": [
        "<a href=\"https://colab.research.google.com/github/luizcalaca/AirPequiObstacles/blob/master/desafio_cognitive_ai.ipynb\" target=\"_parent\"><img src=\"https://colab.research.google.com/assets/colab-badge.svg\" alt=\"Open In Colab\"/></a>"
      ]
    },
    {
      "cell_type": "markdown",
      "metadata": {
        "id": "FicwTF22bhD2",
        "colab_type": "text"
      },
      "source": [
        "**Dataset utilizado** - 21 January, 2020\tRio de Janeiro listings.csv\tSummary - information and metrics for listings in Rio de Janeiro (good for visualisations) link: http://data.insideairbnb.com/brazil/rj/rio-de-janeiro/2020-01-21/data/listings.csv.gz."
      ]
    },
    {
      "cell_type": "markdown",
      "metadata": {
        "id": "ZgXG9hQRbxM4",
        "colab_type": "text"
      },
      "source": [
        "**Previsão do preço da estadia (feature ‘price’)**"
      ]
    },
    {
      "cell_type": "markdown",
      "metadata": {
        "id": "bsr3K5p8cBqq",
        "colab_type": "text"
      },
      "source": [
        "**Análise Exploratória**"
      ]
    },
    {
      "cell_type": "code",
      "metadata": {
        "id": "9NqPfnzpc3YE",
        "colab_type": "code",
        "colab": {}
      },
      "source": [
        "import pandas as pd\n",
        "import io\n",
        "import requests\n",
        "import matplotlib.pyplot as plt\n",
        "import numpy\n",
        "import gzip\n",
        "import seaborn as sns"
      ],
      "execution_count": 0,
      "outputs": []
    },
    {
      "cell_type": "code",
      "metadata": {
        "id": "UU92nP8cfaFe",
        "colab_type": "code",
        "outputId": "f0be74eb-09f4-4c52-b958-25117f071ff0",
        "colab": {
          "base_uri": "https://localhost:8080/",
          "height": 238
        }
      },
      "source": [
        "url = \"http://data.insideairbnb.com/brazil/rj/rio-de-janeiro/2020-01-21/data/listings.csv.gz\"\n",
        "\n",
        "response = requests.get(url)\n",
        "bytes_io = io.BytesIO(response.content)\n",
        "with gzip.open(bytes_io, 'rt') as read_file:\n",
        "    ds = pd.read_csv(read_file)\n",
        "\n",
        "print(ds.describe())"
      ],
      "execution_count": 171,
      "outputs": [
        {
          "output_type": "stream",
          "text": [
            "/usr/local/lib/python3.6/dist-packages/IPython/core/interactiveshell.py:2718: DtypeWarning: Columns (61,62,94) have mixed types.Specify dtype option on import or set low_memory=False.\n",
            "  interactivity=interactivity, compiler=compiler, result=result)\n"
          ],
          "name": "stderr"
        },
        {
          "output_type": "stream",
          "text": [
            "                 id  ...  reviews_per_month\n",
            "count  3.475400e+04  ...       20348.000000\n",
            "mean   1.993875e+07  ...           0.743797\n",
            "std    1.284913e+07  ...           0.937498\n",
            "min    1.787800e+04  ...           0.010000\n",
            "25%    1.069316e+07  ...           0.120000\n",
            "50%    1.589669e+07  ...           0.370000\n",
            "75%    3.185959e+07  ...           1.000000\n",
            "max    4.174458e+07  ...          11.540000\n",
            "\n",
            "[8 rows x 45 columns]\n"
          ],
          "name": "stdout"
        }
      ]
    },
    {
      "cell_type": "markdown",
      "metadata": {
        "id": "LchzSZVBF69P",
        "colab_type": "text"
      },
      "source": [
        "**Retirar as colunas que não fazemm sentido ao problema da predição do valor**"
      ]
    },
    {
      "cell_type": "code",
      "metadata": {
        "id": "jgFjcgT9F_HN",
        "colab_type": "code",
        "colab": {}
      },
      "source": [
        "ds = ds.drop(['id', 'listing_url','scrape_id', 'last_scraped', 'name','summary', 'space', 'description', 'neighborhood_overview', 'notes','transit','access','interaction','house_rules',\n",
        "              'thumbnail_url','medium_url', 'picture_url','xl_picture_url','host_id','host_url','host_name', 'host_about','host_thumbnail_url','host_picture_url', 'host_verifications',\n",
        "              'calendar_last_scraped','first_review','last_review','license','jurisdiction_names', 'cancellation_policy','zipcode'], axis=1)"
      ],
      "execution_count": 0,
      "outputs": []
    },
    {
      "cell_type": "markdown",
      "metadata": {
        "id": "stF5eMB9eaGa",
        "colab_type": "text"
      },
      "source": [
        "**Verificação da dimensão dos dados (linhas, colunas)**"
      ]
    },
    {
      "cell_type": "code",
      "metadata": {
        "id": "YgTVoB_6eNnI",
        "colab_type": "code",
        "outputId": "4913e41c-71fc-4ef8-b0d3-27b79a20a0b7",
        "colab": {
          "base_uri": "https://localhost:8080/",
          "height": 510
        }
      },
      "source": [
        "dim = ds.shape\n",
        "print(dim)\n",
        "print(ds.columns)"
      ],
      "execution_count": 173,
      "outputs": [
        {
          "output_type": "stream",
          "text": [
            "(34754, 74)\n",
            "Index(['experiences_offered', 'host_since', 'host_location',\n",
            "       'host_response_time', 'host_response_rate', 'host_acceptance_rate',\n",
            "       'host_is_superhost', 'host_neighbourhood', 'host_listings_count',\n",
            "       'host_total_listings_count', 'host_has_profile_pic',\n",
            "       'host_identity_verified', 'street', 'neighbourhood',\n",
            "       'neighbourhood_cleansed', 'neighbourhood_group_cleansed', 'city',\n",
            "       'state', 'market', 'smart_location', 'country_code', 'country',\n",
            "       'latitude', 'longitude', 'is_location_exact', 'property_type',\n",
            "       'room_type', 'accommodates', 'bathrooms', 'bedrooms', 'beds',\n",
            "       'bed_type', 'amenities', 'square_feet', 'price', 'weekly_price',\n",
            "       'monthly_price', 'security_deposit', 'cleaning_fee', 'guests_included',\n",
            "       'extra_people', 'minimum_nights', 'maximum_nights',\n",
            "       'minimum_minimum_nights', 'maximum_minimum_nights',\n",
            "       'minimum_maximum_nights', 'maximum_maximum_nights',\n",
            "       'minimum_nights_avg_ntm', 'maximum_nights_avg_ntm', 'calendar_updated',\n",
            "       'has_availability', 'availability_30', 'availability_60',\n",
            "       'availability_90', 'availability_365', 'number_of_reviews',\n",
            "       'number_of_reviews_ltm', 'review_scores_rating',\n",
            "       'review_scores_accuracy', 'review_scores_cleanliness',\n",
            "       'review_scores_checkin', 'review_scores_communication',\n",
            "       'review_scores_location', 'review_scores_value', 'requires_license',\n",
            "       'instant_bookable', 'is_business_travel_ready',\n",
            "       'require_guest_profile_picture', 'require_guest_phone_verification',\n",
            "       'calculated_host_listings_count',\n",
            "       'calculated_host_listings_count_entire_homes',\n",
            "       'calculated_host_listings_count_private_rooms',\n",
            "       'calculated_host_listings_count_shared_rooms', 'reviews_per_month'],\n",
            "      dtype='object')\n"
          ],
          "name": "stdout"
        }
      ]
    },
    {
      "cell_type": "markdown",
      "metadata": {
        "id": "XAnGXMDnL5yA",
        "colab_type": "text"
      },
      "source": [
        "**Verificação de nulos**"
      ]
    },
    {
      "cell_type": "code",
      "metadata": {
        "id": "x6VvvO2Oi8dg",
        "colab_type": "code",
        "outputId": "b1a12605-ce22-4594-bc7b-f736e470bbb3",
        "colab": {
          "base_uri": "https://localhost:8080/",
          "height": 1000
        }
      },
      "source": [
        "ds.info()"
      ],
      "execution_count": 174,
      "outputs": [
        {
          "output_type": "stream",
          "text": [
            "<class 'pandas.core.frame.DataFrame'>\n",
            "RangeIndex: 34754 entries, 0 to 34753\n",
            "Data columns (total 74 columns):\n",
            " #   Column                                        Non-Null Count  Dtype  \n",
            "---  ------                                        --------------  -----  \n",
            " 0   experiences_offered                           34754 non-null  object \n",
            " 1   host_since                                    34749 non-null  object \n",
            " 2   host_location                                 34577 non-null  object \n",
            " 3   host_response_time                            22847 non-null  object \n",
            " 4   host_response_rate                            22847 non-null  object \n",
            " 5   host_acceptance_rate                          0 non-null      float64\n",
            " 6   host_is_superhost                             34749 non-null  object \n",
            " 7   host_neighbourhood                            22505 non-null  object \n",
            " 8   host_listings_count                           34749 non-null  float64\n",
            " 9   host_total_listings_count                     34749 non-null  float64\n",
            " 10  host_has_profile_pic                          34749 non-null  object \n",
            " 11  host_identity_verified                        34749 non-null  object \n",
            " 12  street                                        34754 non-null  object \n",
            " 13  neighbourhood                                 32972 non-null  object \n",
            " 14  neighbourhood_cleansed                        34754 non-null  object \n",
            " 15  neighbourhood_group_cleansed                  0 non-null      float64\n",
            " 16  city                                          34614 non-null  object \n",
            " 17  state                                         34712 non-null  object \n",
            " 18  market                                        34709 non-null  object \n",
            " 19  smart_location                                34754 non-null  object \n",
            " 20  country_code                                  34754 non-null  object \n",
            " 21  country                                       34754 non-null  object \n",
            " 22  latitude                                      34754 non-null  float64\n",
            " 23  longitude                                     34754 non-null  float64\n",
            " 24  is_location_exact                             34754 non-null  object \n",
            " 25  property_type                                 34754 non-null  object \n",
            " 26  room_type                                     34754 non-null  object \n",
            " 27  accommodates                                  34754 non-null  int64  \n",
            " 28  bathrooms                                     34700 non-null  float64\n",
            " 29  bedrooms                                      34694 non-null  float64\n",
            " 30  beds                                          34579 non-null  float64\n",
            " 31  bed_type                                      34754 non-null  object \n",
            " 32  amenities                                     34754 non-null  object \n",
            " 33  square_feet                                   484 non-null    float64\n",
            " 34  price                                         34754 non-null  object \n",
            " 35  weekly_price                                  2445 non-null   object \n",
            " 36  monthly_price                                 2712 non-null   object \n",
            " 37  security_deposit                              19711 non-null  object \n",
            " 38  cleaning_fee                                  23840 non-null  object \n",
            " 39  guests_included                               34754 non-null  int64  \n",
            " 40  extra_people                                  34754 non-null  object \n",
            " 41  minimum_nights                                34754 non-null  int64  \n",
            " 42  maximum_nights                                34754 non-null  int64  \n",
            " 43  minimum_minimum_nights                        34754 non-null  int64  \n",
            " 44  maximum_minimum_nights                        34754 non-null  int64  \n",
            " 45  minimum_maximum_nights                        34754 non-null  int64  \n",
            " 46  maximum_maximum_nights                        34754 non-null  int64  \n",
            " 47  minimum_nights_avg_ntm                        34754 non-null  float64\n",
            " 48  maximum_nights_avg_ntm                        34754 non-null  float64\n",
            " 49  calendar_updated                              34754 non-null  object \n",
            " 50  has_availability                              34754 non-null  object \n",
            " 51  availability_30                               34754 non-null  int64  \n",
            " 52  availability_60                               34754 non-null  int64  \n",
            " 53  availability_90                               34754 non-null  int64  \n",
            " 54  availability_365                              34754 non-null  int64  \n",
            " 55  number_of_reviews                             34754 non-null  int64  \n",
            " 56  number_of_reviews_ltm                         34754 non-null  int64  \n",
            " 57  review_scores_rating                          19462 non-null  float64\n",
            " 58  review_scores_accuracy                        19442 non-null  float64\n",
            " 59  review_scores_cleanliness                     19448 non-null  float64\n",
            " 60  review_scores_checkin                         19442 non-null  float64\n",
            " 61  review_scores_communication                   19450 non-null  float64\n",
            " 62  review_scores_location                        19445 non-null  float64\n",
            " 63  review_scores_value                           19447 non-null  float64\n",
            " 64  requires_license                              34754 non-null  object \n",
            " 65  instant_bookable                              34754 non-null  object \n",
            " 66  is_business_travel_ready                      34754 non-null  object \n",
            " 67  require_guest_profile_picture                 34754 non-null  object \n",
            " 68  require_guest_phone_verification              34754 non-null  object \n",
            " 69  calculated_host_listings_count                34754 non-null  int64  \n",
            " 70  calculated_host_listings_count_entire_homes   34754 non-null  int64  \n",
            " 71  calculated_host_listings_count_private_rooms  34754 non-null  int64  \n",
            " 72  calculated_host_listings_count_shared_rooms   34754 non-null  int64  \n",
            " 73  reviews_per_month                             20348 non-null  float64\n",
            "dtypes: float64(20), int64(18), object(36)\n",
            "memory usage: 19.6+ MB\n"
          ],
          "name": "stdout"
        }
      ]
    },
    {
      "cell_type": "markdown",
      "metadata": {
        "id": "pKtmbXINMBPM",
        "colab_type": "text"
      },
      "source": [
        "**Remoção de campos com alta porcentagem de nulos**"
      ]
    },
    {
      "cell_type": "code",
      "metadata": {
        "id": "Us74U6MbMFZG",
        "colab_type": "code",
        "colab": {}
      },
      "source": [
        "ds = ds.drop(['square_feet','weekly_price','monthly_price','host_acceptance_rate','neighbourhood_group_cleansed'], axis=1)"
      ],
      "execution_count": 0,
      "outputs": []
    },
    {
      "cell_type": "markdown",
      "metadata": {
        "id": "7uWGF0LT5g0w",
        "colab_type": "text"
      },
      "source": [
        "**Remoção do símbolo de valor monetório (dólar)**"
      ]
    },
    {
      "cell_type": "code",
      "metadata": {
        "id": "CM3K0zRQSKaP",
        "colab_type": "code",
        "outputId": "dfb56ec7-8eca-474e-9068-d407ce776894",
        "colab": {
          "base_uri": "https://localhost:8080/",
          "height": 221
        }
      },
      "source": [
        "ds.dtypes"
      ],
      "execution_count": 176,
      "outputs": [
        {
          "output_type": "execute_result",
          "data": {
            "text/plain": [
              "experiences_offered                              object\n",
              "host_since                                       object\n",
              "host_location                                    object\n",
              "host_response_time                               object\n",
              "host_response_rate                               object\n",
              "                                                 ...   \n",
              "calculated_host_listings_count                    int64\n",
              "calculated_host_listings_count_entire_homes       int64\n",
              "calculated_host_listings_count_private_rooms      int64\n",
              "calculated_host_listings_count_shared_rooms       int64\n",
              "reviews_per_month                               float64\n",
              "Length: 69, dtype: object"
            ]
          },
          "metadata": {
            "tags": []
          },
          "execution_count": 176
        }
      ]
    },
    {
      "cell_type": "code",
      "metadata": {
        "id": "fOw7pWcs5l-f",
        "colab_type": "code",
        "colab": {}
      },
      "source": [
        "def remove_simbolo_monetario(x):\n",
        "    a =  x[1:] #remove apenas um caracter\n",
        "    result = \"\"\n",
        "    for i in a:\n",
        "        if i.isdigit() is True:\n",
        "            result = result + i\n",
        "    return result #retorna os digíto, sem o símbolo"
      ],
      "execution_count": 0,
      "outputs": []
    },
    {
      "cell_type": "code",
      "metadata": {
        "id": "PnNwE6mk5zco",
        "colab_type": "code",
        "colab": {}
      },
      "source": [
        "ds[\"price\"] = pd.to_numeric(ds[\"price\"].apply(remove_simbolo_monetario), errors= \"ignore\")\n",
        "ds[\"extra_people\"] = pd.to_numeric(ds[\"extra_people\"].apply(remove_simbolo_monetario), errors= \"ignore\")\n",
        "#ds[\"security_deposit\"] = pd.to_numeric(ds[\"security_deposit\"].apply(remove_simbolo_monetario), errors= \"ignore\")\n",
        "#ds[\"cleaning_fee\"] = pd.to_numeric(ds[\"extra_people\"].apply(remove_simbolo_monetario), errors= \"ignore\")"
      ],
      "execution_count": 0,
      "outputs": []
    },
    {
      "cell_type": "code",
      "metadata": {
        "id": "GahUM0_Q6QTU",
        "colab_type": "code",
        "outputId": "30b6cbcd-36ba-433d-c73b-0e62551a47cb",
        "colab": {
          "base_uri": "https://localhost:8080/",
          "height": 530
        }
      },
      "source": [
        "ds.head()"
      ],
      "execution_count": 179,
      "outputs": [
        {
          "output_type": "execute_result",
          "data": {
            "text/html": [
              "<div>\n",
              "<style scoped>\n",
              "    .dataframe tbody tr th:only-of-type {\n",
              "        vertical-align: middle;\n",
              "    }\n",
              "\n",
              "    .dataframe tbody tr th {\n",
              "        vertical-align: top;\n",
              "    }\n",
              "\n",
              "    .dataframe thead th {\n",
              "        text-align: right;\n",
              "    }\n",
              "</style>\n",
              "<table border=\"1\" class=\"dataframe\">\n",
              "  <thead>\n",
              "    <tr style=\"text-align: right;\">\n",
              "      <th></th>\n",
              "      <th>experiences_offered</th>\n",
              "      <th>host_since</th>\n",
              "      <th>host_location</th>\n",
              "      <th>host_response_time</th>\n",
              "      <th>host_response_rate</th>\n",
              "      <th>host_is_superhost</th>\n",
              "      <th>host_neighbourhood</th>\n",
              "      <th>host_listings_count</th>\n",
              "      <th>host_total_listings_count</th>\n",
              "      <th>host_has_profile_pic</th>\n",
              "      <th>host_identity_verified</th>\n",
              "      <th>street</th>\n",
              "      <th>neighbourhood</th>\n",
              "      <th>neighbourhood_cleansed</th>\n",
              "      <th>city</th>\n",
              "      <th>state</th>\n",
              "      <th>market</th>\n",
              "      <th>smart_location</th>\n",
              "      <th>country_code</th>\n",
              "      <th>country</th>\n",
              "      <th>latitude</th>\n",
              "      <th>longitude</th>\n",
              "      <th>is_location_exact</th>\n",
              "      <th>property_type</th>\n",
              "      <th>room_type</th>\n",
              "      <th>accommodates</th>\n",
              "      <th>bathrooms</th>\n",
              "      <th>bedrooms</th>\n",
              "      <th>beds</th>\n",
              "      <th>bed_type</th>\n",
              "      <th>amenities</th>\n",
              "      <th>price</th>\n",
              "      <th>security_deposit</th>\n",
              "      <th>cleaning_fee</th>\n",
              "      <th>guests_included</th>\n",
              "      <th>extra_people</th>\n",
              "      <th>minimum_nights</th>\n",
              "      <th>maximum_nights</th>\n",
              "      <th>minimum_minimum_nights</th>\n",
              "      <th>maximum_minimum_nights</th>\n",
              "      <th>minimum_maximum_nights</th>\n",
              "      <th>maximum_maximum_nights</th>\n",
              "      <th>minimum_nights_avg_ntm</th>\n",
              "      <th>maximum_nights_avg_ntm</th>\n",
              "      <th>calendar_updated</th>\n",
              "      <th>has_availability</th>\n",
              "      <th>availability_30</th>\n",
              "      <th>availability_60</th>\n",
              "      <th>availability_90</th>\n",
              "      <th>availability_365</th>\n",
              "      <th>number_of_reviews</th>\n",
              "      <th>number_of_reviews_ltm</th>\n",
              "      <th>review_scores_rating</th>\n",
              "      <th>review_scores_accuracy</th>\n",
              "      <th>review_scores_cleanliness</th>\n",
              "      <th>review_scores_checkin</th>\n",
              "      <th>review_scores_communication</th>\n",
              "      <th>review_scores_location</th>\n",
              "      <th>review_scores_value</th>\n",
              "      <th>requires_license</th>\n",
              "      <th>instant_bookable</th>\n",
              "      <th>is_business_travel_ready</th>\n",
              "      <th>require_guest_profile_picture</th>\n",
              "      <th>require_guest_phone_verification</th>\n",
              "      <th>calculated_host_listings_count</th>\n",
              "      <th>calculated_host_listings_count_entire_homes</th>\n",
              "      <th>calculated_host_listings_count_private_rooms</th>\n",
              "      <th>calculated_host_listings_count_shared_rooms</th>\n",
              "      <th>reviews_per_month</th>\n",
              "    </tr>\n",
              "  </thead>\n",
              "  <tbody>\n",
              "    <tr>\n",
              "      <th>0</th>\n",
              "      <td>none</td>\n",
              "      <td>2010-01-08</td>\n",
              "      <td>Rio de Janeiro, State of Rio de Janeiro, Brazil</td>\n",
              "      <td>within an hour</td>\n",
              "      <td>100%</td>\n",
              "      <td>t</td>\n",
              "      <td>Copacabana</td>\n",
              "      <td>2.0</td>\n",
              "      <td>2.0</td>\n",
              "      <td>t</td>\n",
              "      <td>t</td>\n",
              "      <td>Rio de Janeiro, Rio de Janeiro, Brazil</td>\n",
              "      <td>Copacabana</td>\n",
              "      <td>Copacabana</td>\n",
              "      <td>Rio de Janeiro</td>\n",
              "      <td>Rio de Janeiro</td>\n",
              "      <td>Rio De Janeiro</td>\n",
              "      <td>Rio de Janeiro, Brazil</td>\n",
              "      <td>BR</td>\n",
              "      <td>Brazil</td>\n",
              "      <td>-22.96592</td>\n",
              "      <td>-43.17896</td>\n",
              "      <td>t</td>\n",
              "      <td>Condominium</td>\n",
              "      <td>Entire home/apt</td>\n",
              "      <td>5</td>\n",
              "      <td>1.0</td>\n",
              "      <td>2.0</td>\n",
              "      <td>2.0</td>\n",
              "      <td>Real Bed</td>\n",
              "      <td>{TV,\"Cable TV\",Internet,Wifi,\"Air conditioning...</td>\n",
              "      <td>33200</td>\n",
              "      <td>$0.00</td>\n",
              "      <td>$378.00</td>\n",
              "      <td>2</td>\n",
              "      <td>6300</td>\n",
              "      <td>5</td>\n",
              "      <td>30</td>\n",
              "      <td>5</td>\n",
              "      <td>5</td>\n",
              "      <td>1125</td>\n",
              "      <td>1125</td>\n",
              "      <td>5.0</td>\n",
              "      <td>1125.0</td>\n",
              "      <td>6 weeks ago</td>\n",
              "      <td>t</td>\n",
              "      <td>1</td>\n",
              "      <td>7</td>\n",
              "      <td>37</td>\n",
              "      <td>312</td>\n",
              "      <td>246</td>\n",
              "      <td>26</td>\n",
              "      <td>93.0</td>\n",
              "      <td>10.0</td>\n",
              "      <td>10.0</td>\n",
              "      <td>10.0</td>\n",
              "      <td>10.0</td>\n",
              "      <td>10.0</td>\n",
              "      <td>9.0</td>\n",
              "      <td>f</td>\n",
              "      <td>t</td>\n",
              "      <td>f</td>\n",
              "      <td>f</td>\n",
              "      <td>f</td>\n",
              "      <td>1</td>\n",
              "      <td>1</td>\n",
              "      <td>0</td>\n",
              "      <td>0</td>\n",
              "      <td>2.12</td>\n",
              "    </tr>\n",
              "    <tr>\n",
              "      <th>1</th>\n",
              "      <td>none</td>\n",
              "      <td>2010-02-14</td>\n",
              "      <td>Chicago, Illinois, United States</td>\n",
              "      <td>within an hour</td>\n",
              "      <td>100%</td>\n",
              "      <td>f</td>\n",
              "      <td>Ipanema</td>\n",
              "      <td>0.0</td>\n",
              "      <td>0.0</td>\n",
              "      <td>t</td>\n",
              "      <td>t</td>\n",
              "      <td>Rio de Janeiro, RJ, Brazil</td>\n",
              "      <td>Ipanema</td>\n",
              "      <td>Ipanema</td>\n",
              "      <td>Rio de Janeiro</td>\n",
              "      <td>RJ</td>\n",
              "      <td>Rio De Janeiro</td>\n",
              "      <td>Rio de Janeiro, Brazil</td>\n",
              "      <td>BR</td>\n",
              "      <td>Brazil</td>\n",
              "      <td>-22.98467</td>\n",
              "      <td>-43.19611</td>\n",
              "      <td>t</td>\n",
              "      <td>Apartment</td>\n",
              "      <td>Entire home/apt</td>\n",
              "      <td>6</td>\n",
              "      <td>2.0</td>\n",
              "      <td>2.0</td>\n",
              "      <td>4.0</td>\n",
              "      <td>Real Bed</td>\n",
              "      <td>{TV,\"Cable TV\",Internet,Wifi,\"Air conditioning...</td>\n",
              "      <td>33600</td>\n",
              "      <td>$2,098.00</td>\n",
              "      <td>$210.00</td>\n",
              "      <td>6</td>\n",
              "      <td>0</td>\n",
              "      <td>5</td>\n",
              "      <td>30</td>\n",
              "      <td>5</td>\n",
              "      <td>5</td>\n",
              "      <td>30</td>\n",
              "      <td>30</td>\n",
              "      <td>5.0</td>\n",
              "      <td>30.0</td>\n",
              "      <td>3 weeks ago</td>\n",
              "      <td>t</td>\n",
              "      <td>6</td>\n",
              "      <td>12</td>\n",
              "      <td>12</td>\n",
              "      <td>12</td>\n",
              "      <td>89</td>\n",
              "      <td>1</td>\n",
              "      <td>97.0</td>\n",
              "      <td>10.0</td>\n",
              "      <td>10.0</td>\n",
              "      <td>10.0</td>\n",
              "      <td>10.0</td>\n",
              "      <td>10.0</td>\n",
              "      <td>10.0</td>\n",
              "      <td>f</td>\n",
              "      <td>f</td>\n",
              "      <td>f</td>\n",
              "      <td>f</td>\n",
              "      <td>f</td>\n",
              "      <td>1</td>\n",
              "      <td>1</td>\n",
              "      <td>0</td>\n",
              "      <td>0</td>\n",
              "      <td>1.23</td>\n",
              "    </tr>\n",
              "    <tr>\n",
              "      <th>2</th>\n",
              "      <td>none</td>\n",
              "      <td>2010-04-03</td>\n",
              "      <td>Rio de Janeiro, State of Rio de Janeiro, Brazil</td>\n",
              "      <td>within a day</td>\n",
              "      <td>86%</td>\n",
              "      <td>f</td>\n",
              "      <td>Copacabana</td>\n",
              "      <td>3.0</td>\n",
              "      <td>3.0</td>\n",
              "      <td>t</td>\n",
              "      <td>t</td>\n",
              "      <td>Rio de Janeiro, Rio de Janeiro, Brazil</td>\n",
              "      <td>Copacabana</td>\n",
              "      <td>Copacabana</td>\n",
              "      <td>Rio de Janeiro</td>\n",
              "      <td>Rio de Janeiro</td>\n",
              "      <td>Rio De Janeiro</td>\n",
              "      <td>Rio de Janeiro, Brazil</td>\n",
              "      <td>BR</td>\n",
              "      <td>Brazil</td>\n",
              "      <td>-22.97712</td>\n",
              "      <td>-43.19045</td>\n",
              "      <td>t</td>\n",
              "      <td>Apartment</td>\n",
              "      <td>Entire home/apt</td>\n",
              "      <td>2</td>\n",
              "      <td>1.0</td>\n",
              "      <td>1.0</td>\n",
              "      <td>2.0</td>\n",
              "      <td>Real Bed</td>\n",
              "      <td>{TV,\"Cable TV\",Internet,Wifi,\"Air conditioning...</td>\n",
              "      <td>15900</td>\n",
              "      <td>$1,000.00</td>\n",
              "      <td>$250.00</td>\n",
              "      <td>2</td>\n",
              "      <td>4500</td>\n",
              "      <td>7</td>\n",
              "      <td>60</td>\n",
              "      <td>7</td>\n",
              "      <td>7</td>\n",
              "      <td>60</td>\n",
              "      <td>60</td>\n",
              "      <td>7.0</td>\n",
              "      <td>60.0</td>\n",
              "      <td>3 days ago</td>\n",
              "      <td>t</td>\n",
              "      <td>13</td>\n",
              "      <td>16</td>\n",
              "      <td>16</td>\n",
              "      <td>21</td>\n",
              "      <td>237</td>\n",
              "      <td>15</td>\n",
              "      <td>94.0</td>\n",
              "      <td>9.0</td>\n",
              "      <td>10.0</td>\n",
              "      <td>9.0</td>\n",
              "      <td>10.0</td>\n",
              "      <td>10.0</td>\n",
              "      <td>9.0</td>\n",
              "      <td>f</td>\n",
              "      <td>f</td>\n",
              "      <td>f</td>\n",
              "      <td>t</td>\n",
              "      <td>t</td>\n",
              "      <td>3</td>\n",
              "      <td>3</td>\n",
              "      <td>0</td>\n",
              "      <td>0</td>\n",
              "      <td>2.02</td>\n",
              "    </tr>\n",
              "    <tr>\n",
              "      <th>3</th>\n",
              "      <td>none</td>\n",
              "      <td>2010-05-31</td>\n",
              "      <td>Rio de Janeiro, Rio de Janeiro, Brazil</td>\n",
              "      <td>within an hour</td>\n",
              "      <td>100%</td>\n",
              "      <td>t</td>\n",
              "      <td>Ipanema</td>\n",
              "      <td>1.0</td>\n",
              "      <td>1.0</td>\n",
              "      <td>t</td>\n",
              "      <td>t</td>\n",
              "      <td>Rio de Janeiro, RJ, Brazil</td>\n",
              "      <td>Ipanema</td>\n",
              "      <td>Ipanema</td>\n",
              "      <td>Rio de Janeiro</td>\n",
              "      <td>RJ</td>\n",
              "      <td>Rio De Janeiro</td>\n",
              "      <td>Rio de Janeiro, Brazil</td>\n",
              "      <td>BR</td>\n",
              "      <td>Brazil</td>\n",
              "      <td>-22.98302</td>\n",
              "      <td>-43.21427</td>\n",
              "      <td>t</td>\n",
              "      <td>Apartment</td>\n",
              "      <td>Entire home/apt</td>\n",
              "      <td>3</td>\n",
              "      <td>1.0</td>\n",
              "      <td>1.0</td>\n",
              "      <td>2.0</td>\n",
              "      <td>Real Bed</td>\n",
              "      <td>{TV,\"Cable TV\",Internet,Wifi,\"Air conditioning...</td>\n",
              "      <td>27300</td>\n",
              "      <td>$0.00</td>\n",
              "      <td>$84.00</td>\n",
              "      <td>2</td>\n",
              "      <td>4200</td>\n",
              "      <td>2</td>\n",
              "      <td>1125</td>\n",
              "      <td>2</td>\n",
              "      <td>5</td>\n",
              "      <td>1125</td>\n",
              "      <td>1125</td>\n",
              "      <td>2.0</td>\n",
              "      <td>1125.0</td>\n",
              "      <td>2 weeks ago</td>\n",
              "      <td>t</td>\n",
              "      <td>0</td>\n",
              "      <td>12</td>\n",
              "      <td>40</td>\n",
              "      <td>130</td>\n",
              "      <td>277</td>\n",
              "      <td>39</td>\n",
              "      <td>96.0</td>\n",
              "      <td>10.0</td>\n",
              "      <td>10.0</td>\n",
              "      <td>10.0</td>\n",
              "      <td>10.0</td>\n",
              "      <td>10.0</td>\n",
              "      <td>10.0</td>\n",
              "      <td>f</td>\n",
              "      <td>t</td>\n",
              "      <td>f</td>\n",
              "      <td>f</td>\n",
              "      <td>f</td>\n",
              "      <td>1</td>\n",
              "      <td>1</td>\n",
              "      <td>0</td>\n",
              "      <td>0</td>\n",
              "      <td>2.39</td>\n",
              "    </tr>\n",
              "    <tr>\n",
              "      <th>4</th>\n",
              "      <td>none</td>\n",
              "      <td>2010-06-27</td>\n",
              "      <td>San Carlos de Bariloche, Rio Negro, Argentina</td>\n",
              "      <td>within an hour</td>\n",
              "      <td>100%</td>\n",
              "      <td>f</td>\n",
              "      <td>Ipanema</td>\n",
              "      <td>1.0</td>\n",
              "      <td>1.0</td>\n",
              "      <td>t</td>\n",
              "      <td>t</td>\n",
              "      <td>Rio de Janeiro, Rio de Janeiro, Brazil</td>\n",
              "      <td>Ipanema</td>\n",
              "      <td>Ipanema</td>\n",
              "      <td>Rio de Janeiro</td>\n",
              "      <td>Rio de Janeiro</td>\n",
              "      <td>Rio De Janeiro</td>\n",
              "      <td>Rio de Janeiro, Brazil</td>\n",
              "      <td>BR</td>\n",
              "      <td>Brazil</td>\n",
              "      <td>-22.98816</td>\n",
              "      <td>-43.19359</td>\n",
              "      <td>t</td>\n",
              "      <td>Apartment</td>\n",
              "      <td>Entire home/apt</td>\n",
              "      <td>2</td>\n",
              "      <td>1.5</td>\n",
              "      <td>1.0</td>\n",
              "      <td>1.0</td>\n",
              "      <td>Real Bed</td>\n",
              "      <td>{TV,\"Cable TV\",Internet,Wifi,\"Air conditioning...</td>\n",
              "      <td>37800</td>\n",
              "      <td>$1,049.00</td>\n",
              "      <td>$172.00</td>\n",
              "      <td>2</td>\n",
              "      <td>6300</td>\n",
              "      <td>2</td>\n",
              "      <td>89</td>\n",
              "      <td>2</td>\n",
              "      <td>2</td>\n",
              "      <td>89</td>\n",
              "      <td>89</td>\n",
              "      <td>2.0</td>\n",
              "      <td>89.0</td>\n",
              "      <td>4 months ago</td>\n",
              "      <td>t</td>\n",
              "      <td>2</td>\n",
              "      <td>13</td>\n",
              "      <td>24</td>\n",
              "      <td>108</td>\n",
              "      <td>174</td>\n",
              "      <td>35</td>\n",
              "      <td>94.0</td>\n",
              "      <td>10.0</td>\n",
              "      <td>9.0</td>\n",
              "      <td>10.0</td>\n",
              "      <td>10.0</td>\n",
              "      <td>10.0</td>\n",
              "      <td>9.0</td>\n",
              "      <td>f</td>\n",
              "      <td>f</td>\n",
              "      <td>f</td>\n",
              "      <td>t</td>\n",
              "      <td>t</td>\n",
              "      <td>1</td>\n",
              "      <td>1</td>\n",
              "      <td>0</td>\n",
              "      <td>0</td>\n",
              "      <td>2.29</td>\n",
              "    </tr>\n",
              "  </tbody>\n",
              "</table>\n",
              "</div>"
            ],
            "text/plain": [
              "  experiences_offered  ... reviews_per_month\n",
              "0                none  ...              2.12\n",
              "1                none  ...              1.23\n",
              "2                none  ...              2.02\n",
              "3                none  ...              2.39\n",
              "4                none  ...              2.29\n",
              "\n",
              "[5 rows x 69 columns]"
            ]
          },
          "metadata": {
            "tags": []
          },
          "execution_count": 179
        }
      ]
    },
    {
      "cell_type": "markdown",
      "metadata": {
        "id": "bneFPaLz6w8v",
        "colab_type": "text"
      },
      "source": [
        "**Transformando variáveis categóricas em códigos númericos**"
      ]
    },
    {
      "cell_type": "code",
      "metadata": {
        "id": "4YoAYCCagtMM",
        "colab_type": "code",
        "colab": {}
      },
      "source": [
        "# property_type = {\"Condominium\":1, \"Apartment\":2, \"Loft\":3}\n",
        "# ds[\"property_type\"] = ds[\"property_type\"].map(property_type)\n",
        "\n",
        "# room_type = {\"furnished\":1, \"not furnished\":0}\n",
        "# ds[\"room_type\"] = ds[\"room_type\"].map(room_type)"
      ],
      "execution_count": 0,
      "outputs": []
    },
    {
      "cell_type": "markdown",
      "metadata": {
        "id": "uok2jAe-n3Dy",
        "colab_type": "text"
      },
      "source": [
        "**Transformamdo algumas colunas em categóricas, a fim de listarmos as diversas categorias e transformá-la em representação numérica.**"
      ]
    },
    {
      "cell_type": "code",
      "metadata": {
        "id": "Uy8UBS_CsS4-",
        "colab_type": "code",
        "colab": {}
      },
      "source": [
        "from pandas import Categorical"
      ],
      "execution_count": 0,
      "outputs": []
    },
    {
      "cell_type": "code",
      "metadata": {
        "id": "NdCVeTO1qu01",
        "colab_type": "code",
        "colab": {}
      },
      "source": [
        "ds['bed_type'] = ds.bed_type.astype('category')\n",
        "ds['bed_type'].cat.categories\n",
        "ds['bed_type'] = ds['bed_type'].cat.codes"
      ],
      "execution_count": 0,
      "outputs": []
    },
    {
      "cell_type": "code",
      "metadata": {
        "id": "ldQt3DE3nVtl",
        "colab_type": "code",
        "colab": {}
      },
      "source": [
        "ds['property_type'] = ds.property_type.astype('category')\n",
        "ds['property_type'].cat.categories\n",
        "ds['property_type'] = ds['property_type'].cat.codes"
      ],
      "execution_count": 0,
      "outputs": []
    },
    {
      "cell_type": "code",
      "metadata": {
        "id": "pQnsNT41pNiA",
        "colab_type": "code",
        "colab": {}
      },
      "source": [
        "ds['room_type'] = ds.room_type.astype('category')\n",
        "ds['room_type'].cat.categories\n",
        "ds['room_type'] = ds['room_type'].cat.codes"
      ],
      "execution_count": 0,
      "outputs": []
    },
    {
      "cell_type": "markdown",
      "metadata": {
        "id": "T18PaEYw76nU",
        "colab_type": "text"
      },
      "source": [
        "\n",
        "**Verificação e remoção de outliers**"
      ]
    },
    {
      "cell_type": "code",
      "metadata": {
        "id": "npCeak9c7xPC",
        "colab_type": "code",
        "colab": {}
      },
      "source": [
        "plt.figure(figsize = (5,5))\n",
        "sns.boxplot(ds[\"price\"])\n",
        "ds.shape"
      ],
      "execution_count": 0,
      "outputs": []
    },
    {
      "cell_type": "code",
      "metadata": {
        "id": "U0jFwWAS9C8V",
        "colab_type": "code",
        "colab": {}
      },
      "source": [
        "plt.figure(figsize = (7,7))\n",
        "sns.set(style = \"whitegrid\")\n",
        "f = sns.distplot(ds[\"price\"])"
      ],
      "execution_count": 0,
      "outputs": []
    },
    {
      "cell_type": "code",
      "metadata": {
        "id": "kWSBBkL38r_F",
        "colab_type": "code",
        "colab": {}
      },
      "source": [
        "q1 = ds[\"price\"].quantile(0.25)\n",
        "q3 = ds[\"price\"].quantile(0.75)\n",
        "\n",
        "IQR = q3 - q1\n",
        "IF = q1 - (1.5 * IQR)\n",
        "OF = q3 + (1.5 * IQR)"
      ],
      "execution_count": 0,
      "outputs": []
    },
    {
      "cell_type": "code",
      "metadata": {
        "id": "3-ZS1GgB8xeZ",
        "colab_type": "code",
        "colab": {}
      },
      "source": [
        "ds = ds[~((ds[\"price\"] < IF) | (ds[\"price\"] > OF))]\n",
        "ds.shape"
      ],
      "execution_count": 0,
      "outputs": []
    },
    {
      "cell_type": "markdown",
      "metadata": {
        "id": "vb2fgH-l4MV7",
        "colab_type": "text"
      },
      "source": [
        "**Correlação**"
      ]
    },
    {
      "cell_type": "code",
      "metadata": {
        "id": "vKgKxGLXdi1C",
        "colab_type": "code",
        "colab": {}
      },
      "source": [
        "import seaborn as sns\n",
        "\n",
        "plt.figure(figsize=(27,27))\n",
        "sns.heatmap(ds.corr(), annot=True)"
      ],
      "execution_count": 0,
      "outputs": []
    },
    {
      "cell_type": "markdown",
      "metadata": {
        "id": "3KTXJB3KC734",
        "colab_type": "text"
      },
      "source": [
        "**Escolha de algumas variáveis a partir da correlação**"
      ]
    },
    {
      "cell_type": "code",
      "metadata": {
        "id": "zha9Q6CLD92h",
        "colab_type": "code",
        "colab": {}
      },
      "source": [
        "ds[\"accommodates\"] = pd.to_numeric(ds[\"accommodates\"], errors= \"ignore\")\n",
        "ds[\"bathrooms\"] = pd.to_numeric(ds[\"bathrooms\"], errors= \"ignore\")\n",
        "ds[\"bedrooms\"] = pd.to_numeric(ds[\"bedrooms\"], errors= \"ignore\")\n",
        "ds[\"beds\"] = pd.to_numeric(ds[\"beds\"], errors= \"ignore\")\n",
        "# ds[\"review_scores_location\"] = pd.to_numeric(ds[\"review_scores_location\"], errors= \"ignore\")"
      ],
      "execution_count": 0,
      "outputs": []
    },
    {
      "cell_type": "code",
      "metadata": {
        "id": "EY1IRLo9E6yl",
        "colab_type": "code",
        "colab": {}
      },
      "source": [
        "#ds = ds.replace(numpy.nan, 0.0001)\n",
        "#ds = ds.replace(0, 0.0001)\n",
        "ds = ds.dropna()\n",
        "ds"
      ],
      "execution_count": 0,
      "outputs": []
    },
    {
      "cell_type": "markdown",
      "metadata": {
        "id": "3GJsDeLPgAy6",
        "colab_type": "text"
      },
      "source": [
        "**Colunas do treinamento e a label price procurada**"
      ]
    },
    {
      "cell_type": "code",
      "metadata": {
        "id": "kQM4nY8gO3sz",
        "colab_type": "code",
        "colab": {}
      },
      "source": [
        "#x = ds.drop(\"price\", axis = 1)\n",
        "\n",
        "#columns = ['review_score_rating', 'review_scores_accuracy','review_scores_cleanliness','review_scores_checkin','review_scores_communication','review_scores_location']\n",
        "x = ds[['accommodates', 'bathrooms','bedrooms','beds']]\n",
        "#x = x[x > 0]\n",
        "#x.abs()\n",
        "\n",
        "y = ds[\"price\"]"
      ],
      "execution_count": 0,
      "outputs": []
    },
    {
      "cell_type": "code",
      "metadata": {
        "id": "-baUVwDQgS9c",
        "colab_type": "code",
        "colab": {}
      },
      "source": [
        ""
      ],
      "execution_count": 0,
      "outputs": []
    },
    {
      "cell_type": "markdown",
      "metadata": {
        "id": "qTcP545aaPzL",
        "colab_type": "text"
      },
      "source": [
        "**Separação dos conjunto de treinamento e teste**"
      ]
    },
    {
      "cell_type": "code",
      "metadata": {
        "id": "GaWEuq2-DJf8",
        "colab_type": "code",
        "colab": {}
      },
      "source": [
        "from sklearn.model_selection import train_test_split\n",
        "from sklearn.model_selection import RepeatedKFold\n",
        "\n",
        "# rkf.split(X)\n",
        "x_train, x_test,y_train,y_test = train_test_split(x,y,test_size = 0.3)\n",
        "#random_state = 12883823\n",
        "#rkf = RepeatedKFold(n_splits=2, n_repeats=2, random_state=random_state)\n",
        "#x_train, x_test,y_train,y_test = rkf.split(x)"
      ],
      "execution_count": 0,
      "outputs": []
    },
    {
      "cell_type": "markdown",
      "metadata": {
        "id": "abL_oKBwaZsB",
        "colab_type": "text"
      },
      "source": [
        "**Normalização dos dados**"
      ]
    },
    {
      "cell_type": "code",
      "metadata": {
        "id": "QKtK2bBnWAFz",
        "colab_type": "code",
        "colab": {}
      },
      "source": [
        "#Standardization train data\n",
        "from sklearn.preprocessing import StandardScaler\n",
        "std = StandardScaler()\n",
        "std.fit(x_train)\n",
        "std_data = std.transform(x_train)"
      ],
      "execution_count": 0,
      "outputs": []
    },
    {
      "cell_type": "code",
      "metadata": {
        "id": "XceLoiFwWKom",
        "colab_type": "code",
        "colab": {}
      },
      "source": [
        "#Box-Cox transformation for train response variable\n",
        "from scipy import stats\n",
        "bx, lam = stats.boxcox(y_train)\n",
        "y_total = bx"
      ],
      "execution_count": 0,
      "outputs": []
    },
    {
      "cell_type": "markdown",
      "metadata": {
        "id": "ik6rbATEPNME",
        "colab_type": "text"
      },
      "source": [
        "Aplicação do **RandomForest**"
      ]
    },
    {
      "cell_type": "code",
      "metadata": {
        "id": "9jfX_Jr1PPpA",
        "colab_type": "code",
        "colab": {}
      },
      "source": [
        "from sklearn.ensemble import RandomForestRegressor\n",
        "\n",
        "rf = RandomForestRegressor(n_estimators = 1500, verbose=1, criterion='mse')\n",
        "rf.fit(std_data, y_total)"
      ],
      "execution_count": 0,
      "outputs": []
    },
    {
      "cell_type": "markdown",
      "metadata": {
        "id": "r5jbhdstPXPc",
        "colab_type": "text"
      },
      "source": [
        "**Predição**"
      ]
    },
    {
      "cell_type": "code",
      "metadata": {
        "id": "f3V6IQ32PVdL",
        "colab_type": "code",
        "colab": {}
      },
      "source": [
        "pred = rf.predict(x_test)"
      ],
      "execution_count": 0,
      "outputs": []
    },
    {
      "cell_type": "code",
      "metadata": {
        "id": "YvgrOSyhZWgV",
        "colab_type": "code",
        "colab": {}
      },
      "source": [
        "#Box-Cox transformation for Test Response variable\n",
        "bx, lam = stats.boxcox(y_test)\n",
        "y_total_test = bx"
      ],
      "execution_count": 0,
      "outputs": []
    },
    {
      "cell_type": "markdown",
      "metadata": {
        "id": "NdGAhpXrPc0E",
        "colab_type": "text"
      },
      "source": [
        ""
      ]
    },
    {
      "cell_type": "code",
      "metadata": {
        "id": "XcXU9GY5PfcO",
        "colab_type": "code",
        "colab": {}
      },
      "source": [
        "def rmse_test(ytest, pred,xtest):\n",
        "    err = ytest - pred\n",
        "    mse = sum(err**2)/(xtest.shape[0]-xtest.shape[1]-1)\n",
        "    rmse = numpy.sqrt(mse)\n",
        "    print(\"RMSE será: \", rmse)"
      ],
      "execution_count": 0,
      "outputs": []
    },
    {
      "cell_type": "code",
      "metadata": {
        "id": "tT6twvlnPjGa",
        "colab_type": "code",
        "colab": {}
      },
      "source": [
        "rmse_test(y_test, pred, x_test)"
      ],
      "execution_count": 0,
      "outputs": []
    }
  ]
}